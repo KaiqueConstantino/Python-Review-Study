{
 "cells": [
  {
   "cell_type": "markdown",
   "metadata": {},
   "source": [
    "## Pandas data Manipulation"
   ]
  },
  {
   "cell_type": "code",
   "execution_count": 17,
   "metadata": {},
   "outputs": [
    {
     "data": {
      "text/html": [
       "<div>\n",
       "<style scoped>\n",
       "    .dataframe tbody tr th:only-of-type {\n",
       "        vertical-align: middle;\n",
       "    }\n",
       "\n",
       "    .dataframe tbody tr th {\n",
       "        vertical-align: top;\n",
       "    }\n",
       "\n",
       "    .dataframe thead th {\n",
       "        text-align: right;\n",
       "    }\n",
       "</style>\n",
       "<table border=\"1\" class=\"dataframe\">\n",
       "  <thead>\n",
       "    <tr style=\"text-align: right;\">\n",
       "      <th></th>\n",
       "      <th>Name</th>\n",
       "      <th>Age</th>\n",
       "    </tr>\n",
       "  </thead>\n",
       "  <tbody>\n",
       "    <tr>\n",
       "      <th>0</th>\n",
       "      <td>Ana</td>\n",
       "      <td>19</td>\n",
       "    </tr>\n",
       "    <tr>\n",
       "      <th>1</th>\n",
       "      <td>Bruno</td>\n",
       "      <td>20</td>\n",
       "    </tr>\n",
       "  </tbody>\n",
       "</table>\n",
       "</div>"
      ],
      "text/plain": [
       "    Name  Age\n",
       "0    Ana   19\n",
       "1  Bruno   20"
      ]
     },
     "metadata": {},
     "output_type": "display_data"
    }
   ],
   "source": [
    "# Basic concepts\n",
    "import pandas as pd   \n",
    "\n",
    "# Creating a dataframe \n",
    "data = {\"Name\": [\"Ana\", \"Bruno\"], \"Age\": [19, 20] }\n",
    "df = pd.DataFrame(data)\n",
    "display(df)\n"
   ]
  },
  {
   "cell_type": "code",
   "execution_count": 18,
   "metadata": {},
   "outputs": [
    {
     "name": "stdout",
     "output_type": "stream",
     "text": [
      "0      Ana\n",
      "1    Bruno\n",
      "Name: Name, dtype: object\n",
      "Name    Ana\n",
      "Age      19\n",
      "Name: 0, dtype: object\n",
      "    Name  Age\n",
      "1  Bruno   20\n"
     ]
    }
   ],
   "source": [
    "# Show the data \n",
    "print(df[\"Name\"]) # Acessing the name column\n",
    "print(df.iloc[0]) # Acessing the first row\n",
    "print(df[df[\"Age\"] > 19]) # Acessing the rows where the age is greater than 19"
   ]
  },
  {
   "cell_type": "code",
   "execution_count": 19,
   "metadata": {},
   "outputs": [
    {
     "name": "stdout",
     "output_type": "stream",
     "text": [
      "19.5\n"
     ]
    }
   ],
   "source": [
    "# Statistics\n",
    "print(df[\"Age\"].mean()) # Acessing the mean of the age column"
   ]
  },
  {
   "cell_type": "markdown",
   "metadata": {},
   "source": [
    "### Exercise"
   ]
  },
  {
   "cell_type": "markdown",
   "metadata": {},
   "source": [
    "Crie um programa que:\n",
    "\n",
    "- Crie um DataFrame com 3 colunas: \"Produto\", \"Preço\" e \"Quantidade\".\n",
    "- Adicione 3 produtos com seus respectivos preços e quantidades.\n",
    "- Calcule o valor total de cada produto (Preço * Quantidade) e adicione como uma   nova coluna.\n",
    "- Mostre o DataFrame completo.\n"
   ]
  },
  {
   "cell_type": "code",
   "execution_count": 20,
   "metadata": {},
   "outputs": [
    {
     "name": "stdout",
     "output_type": "stream",
     "text": [
      "      Product  Quantity  Price  Total\n",
      "0  Smartphone        10   1000  10000\n",
      "1      Tablet         5    500   2500\n",
      "2      Laptop         3   2000   6000\n"
     ]
    }
   ],
   "source": [
    "data = {\"Product\" : [\"Smartphone\", \"Tablet\", \"Laptop\"],\n",
    "        \"Quantity\" : [10, 5, 3],\n",
    "        \"Price\" : [1000, 500, 2000]\n",
    "} # Creating a dataframe\n",
    "\n",
    "df = pd.DataFrame(data) # Creating a dataframe\n",
    "\n",
    "# Adding a new column\n",
    "df[\"Total\"] = df[\"Quantity\"] * df[\"Price\"]\n",
    "\n",
    "print(df) # Acessing the dataframe"
   ]
  },
  {
   "cell_type": "code",
   "execution_count": 21,
   "metadata": {},
   "outputs": [
    {
     "name": "stdout",
     "output_type": "stream",
     "text": [
      "Product\n",
      "A    25\n",
      "B    45\n",
      "C    30\n",
      "Name: Sales, dtype: int64\n"
     ]
    }
   ],
   "source": [
    "# Agrouping data\n",
    "df = pd.DataFrame({\n",
    "    \"Product\" : [\"A\", \"A\", \"B\", \"B\", \"C\"],\n",
    "    \"Sales\" : [10, 15, 20, 25, 30]\n",
    "})\n",
    "\n",
    "\n",
    "agrup = df.groupby(\"Product\")[\"Sales\"].sum()\n",
    "print(agrup)"
   ]
  },
  {
   "cell_type": "code",
   "execution_count": 22,
   "metadata": {},
   "outputs": [
    {
     "name": "stdout",
     "output_type": "stream",
     "text": [
      "  Product  Sales\n",
      "4       C     30\n",
      "3       B     25\n",
      "2       B     20\n",
      "1       A     15\n",
      "0       A     10\n"
     ]
    }
   ],
   "source": [
    "# Ordenation\n",
    "df = df.sort_values(\"Sales\", ascending=False)\n",
    "print(df)"
   ]
  },
  {
   "cell_type": "code",
   "execution_count": 23,
   "metadata": {},
   "outputs": [
    {
     "name": "stdout",
     "output_type": "stream",
     "text": [
      "Products\n",
      "A    100\n",
      "B    200\n",
      "C    300\n",
      "D    300\n",
      "Name: Sales, dtype: int64\n",
      "  Products  Sales\n",
      "0        A    100\n",
      "1        B    200\n",
      "2        C    200\n",
      "3        C    100\n",
      "4        D    300\n"
     ]
    }
   ],
   "source": [
    "\"\"\" Exercício 3: pandas\n",
    "Crie um DataFrame com 5 produtos e vendas em diferentes cidades.\n",
    "Use o groupby para calcular o total de vendas por produto.\n",
    "Ordene os produtos pelo total de vendas de forma decrescente.\"\"\"\n",
    "\n",
    "\n",
    "df = pd.DataFrame({\n",
    "    \"Products\": [\"A\", \"B\", \"C\", \"C\", \"D\"],\n",
    "    \"Sales\": [100, 200, 200, 100, 300]\n",
    "})\n",
    "\n",
    "group = df.groupby(\"Products\")[\"Sales\"].sum()\n",
    "print(group)\n",
    "\n",
    "sorted_group= df.sort_values(\"Sales\", ascending=False)\n",
    "print(df) "
   ]
  }
 ],
 "metadata": {
  "kernelspec": {
   "display_name": "Python 3",
   "language": "python",
   "name": "python3"
  },
  "language_info": {
   "codemirror_mode": {
    "name": "ipython",
    "version": 3
   },
   "file_extension": ".py",
   "mimetype": "text/x-python",
   "name": "python",
   "nbconvert_exporter": "python",
   "pygments_lexer": "ipython3",
   "version": "3.11.7"
  }
 },
 "nbformat": 4,
 "nbformat_minor": 2
}
