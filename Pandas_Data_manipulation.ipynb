{
 "cells": [
  {
   "cell_type": "markdown",
   "metadata": {},
   "source": [
    "## Pandas data Manipulation"
   ]
  },
  {
   "cell_type": "code",
   "execution_count": 4,
   "metadata": {},
   "outputs": [
    {
     "name": "stdout",
     "output_type": "stream",
     "text": [
      "    Name  Age\n",
      "0    Ana   19\n",
      "1  Bruno   20\n"
     ]
    }
   ],
   "source": [
    "# Basic concepts\n",
    "import pandas as pd   \n",
    "\n",
    "# Creating a dataframe \n",
    "data = {\"Name\": [\"Ana\", \"Bruno\"], \"Age\": [19, 20] }\n",
    "df = pd.DataFrame(data)\n",
    "display(df)\n"
   ]
  },
  {
   "cell_type": "code",
   "execution_count": 7,
   "metadata": {},
   "outputs": [
    {
     "name": "stdout",
     "output_type": "stream",
     "text": [
      "0      Ana\n",
      "1    Bruno\n",
      "Name: Name, dtype: object\n",
      "Name    Ana\n",
      "Age      19\n",
      "Name: 0, dtype: object\n",
      "    Name  Age\n",
      "1  Bruno   20\n"
     ]
    }
   ],
   "source": [
    "# Show the data \n",
    "print(df[\"Name\"]) # Acessing the name column\n",
    "print(df.iloc[0]) # Acessing the first row\n",
    "print(df[df[\"Age\"] > 19]) # Acessing the rows where the age is greater than 19"
   ]
  },
  {
   "cell_type": "code",
   "execution_count": 8,
   "metadata": {},
   "outputs": [
    {
     "name": "stdout",
     "output_type": "stream",
     "text": [
      "19.5\n"
     ]
    }
   ],
   "source": [
    "# Statistics\n",
    "print(df[\"Age\"].mean()) # Acessing the mean of the age column"
   ]
  },
  {
   "cell_type": "markdown",
   "metadata": {},
   "source": [
    "### Exercise"
   ]
  },
  {
   "cell_type": "markdown",
   "metadata": {},
   "source": [
    "Crie um programa que:\n",
    "\n",
    "- Crie um DataFrame com 3 colunas: \"Produto\", \"Preço\" e \"Quantidade\".\n",
    "- Adicione 3 produtos com seus respectivos preços e quantidades.\n",
    "- Calcule o valor total de cada produto (Preço * Quantidade) e adicione como uma   nova coluna.\n",
    "- Mostre o DataFrame completo.\n"
   ]
  },
  {
   "cell_type": "code",
   "execution_count": 11,
   "metadata": {},
   "outputs": [
    {
     "name": "stdout",
     "output_type": "stream",
     "text": [
      "      Product  Quantity  Price  Total\n",
      "0  Smartphone        10   1000  10000\n",
      "1      Tablet         5    500   2500\n",
      "2      Laptop         3   2000   6000\n"
     ]
    }
   ],
   "source": [
    "data = {\"Product\" : [\"Smartphone\", \"Tablet\", \"Laptop\"],\n",
    "        \"Quantity\" : [10, 5, 3],\n",
    "        \"Price\" : [1000, 500, 2000]\n",
    "} # Creating a dataframe\n",
    "\n",
    "df = pd.DataFrame(data) # Creating a dataframe\n",
    "\n",
    "# Adding a new column\n",
    "df[\"Total\"] = df[\"Quantity\"] * df[\"Price\"]\n",
    "\n",
    "print(df) # Acessing the dataframe"
   ]
  }
 ],
 "metadata": {
  "kernelspec": {
   "display_name": "Python 3",
   "language": "python",
   "name": "python3"
  },
  "language_info": {
   "codemirror_mode": {
    "name": "ipython",
    "version": 3
   },
   "file_extension": ".py",
   "mimetype": "text/x-python",
   "name": "python",
   "nbconvert_exporter": "python",
   "pygments_lexer": "ipython3",
   "version": "3.11.7"
  }
 },
 "nbformat": 4,
 "nbformat_minor": 2
}
