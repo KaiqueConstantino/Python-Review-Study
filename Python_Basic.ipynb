{
 "cells": [
  {
   "cell_type": "markdown",
   "metadata": {},
   "source": [
    "## Python Fundaments and Exercises"
   ]
  },
  {
   "cell_type": "code",
   "execution_count": 1,
   "metadata": {},
   "outputs": [
    {
     "name": "stdout",
     "output_type": "stream",
     "text": [
      "Hello Kaique, you are 19 years old, you height is 1.90!)\n"
     ]
    }
   ],
   "source": [
    "# Exercise 1 : Ask to user for name, age, height and learning_python and print it\n",
    "\n",
    "name = input(\"What is your name? \")\n",
    "age = int(input(\"How old are you? \"))\n",
    "height = float(input(\"How tall are you? \"))\n",
    "\n",
    "print(f\"Hello {name}, you are {age} years old, you height is {height}!\")"
   ]
  },
  {
   "cell_type": "code",
   "execution_count": 8,
   "metadata": {},
   "outputs": [
    {
     "name": "stdout",
     "output_type": "stream",
     "text": [
      "You cantnot drive\n"
     ]
    }
   ],
   "source": [
    "# Condictional Structures \n",
    "\n",
    "age = int(input(\"How old are you? \"))\n",
    "\n",
    "if age >= 18:\n",
    "    print(\"You can drive\")\n",
    "else:\n",
    "    print(\"You cannot drive\")"
   ]
  },
  {
   "cell_type": "code",
   "execution_count": 10,
   "metadata": {},
   "outputs": [
    {
     "name": "stdout",
     "output_type": "stream",
     "text": [
      "Number:  0\n",
      "Number:  1\n",
      "Number:  2\n",
      "Number:  3\n",
      "Number:  4\n",
      "Number:  5\n",
      "Number:  6\n",
      "Number:  7\n",
      "Number:  8\n",
      "Number:  9\n",
      "Number:  10\n",
      "Number:  0\n",
      "Number:  1\n",
      "Number:  2\n",
      "Number:  3\n",
      "Number:  4\n",
      "Number:  5\n",
      "Number:  6\n",
      "Number:  7\n",
      "Number:  8\n",
      "Number:  9\n",
      "Number:  10\n"
     ]
    }
   ],
   "source": [
    "# Repeat Loops\n",
    "\n",
    "number = int(input(\"Enter a number: \"))\n",
    "\n",
    "# Example with for \n",
    "for i in range(number+1):\n",
    "    print(\"Number: \", i)\n",
    "    \n",
    "\n",
    "# Example with while\n",
    "count = 0 \n",
    "while count <= number:\n",
    "    print(\"Number: \", count)\n",
    "    count += 1"
   ]
  }
 ],
 "metadata": {
  "kernelspec": {
   "display_name": "Python 3",
   "language": "python",
   "name": "python3"
  },
  "language_info": {
   "codemirror_mode": {
    "name": "ipython",
    "version": 3
   },
   "file_extension": ".py",
   "mimetype": "text/x-python",
   "name": "python",
   "nbconvert_exporter": "python",
   "pygments_lexer": "ipython3",
   "version": "3.11.7"
  }
 },
 "nbformat": 4,
 "nbformat_minor": 2
}
