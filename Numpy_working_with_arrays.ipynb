{
 "cells": [
  {
   "cell_type": "markdown",
   "metadata": {},
   "source": [
    "## Numpy Arrays"
   ]
  },
  {
   "cell_type": "code",
   "execution_count": 2,
   "metadata": {},
   "outputs": [],
   "source": [
    "import numpy as np"
   ]
  },
  {
   "cell_type": "code",
   "execution_count": 4,
   "metadata": {},
   "outputs": [
    {
     "name": "stdout",
     "output_type": "stream",
     "text": [
      "[ 3  6  9 12 15]\n"
     ]
    }
   ],
   "source": [
    "# List transformed in array\n",
    "list = [1, 2, 3, 4, 5]\n",
    "array = np.array(list)\n",
    "print(array)"
   ]
  },
  {
   "cell_type": "code",
   "execution_count": 5,
   "metadata": {},
   "outputs": [
    {
     "name": "stdout",
     "output_type": "stream",
     "text": [
      "[ 2  4  6  8 10]\n",
      "[ 3  6  9 12 15]\n"
     ]
    }
   ],
   "source": [
    "# Arrays Operations\n",
    "array = np.array([1, 2, 3, 4, 5])\n",
    "print(array * 2)\n",
    "print(array * 3)\n"
   ]
  },
  {
   "cell_type": "code",
   "execution_count": 10,
   "metadata": {},
   "outputs": [
    {
     "name": "stdout",
     "output_type": "stream",
     "text": [
      "[[1 2 3]\n",
      " [4 5 6]]\n",
      "(2, 3)\n",
      "2\n"
     ]
    }
   ],
   "source": [
    "# Matrices Operations\n",
    "matrix = np.array([[1,2,3] , [4,5,6]])\n",
    "print(matrix)\n",
    "print(matrix.shape) # Show the dimensions of the matrix\n",
    "print(matrix[0, 1]) # Show the element in the first row and second column"
   ]
  },
  {
   "cell_type": "markdown",
   "metadata": {},
   "source": [
    "## Exercises"
   ]
  },
  {
   "cell_type": "code",
   "execution_count": null,
   "metadata": {},
   "outputs": [],
   "source": [
    "\"\"\"   \n",
    "Create a program that:\n",
    "\n",
    "- Asks the user for two numbers and stores them in a NumPy array.\n",
    "- Multiplies the array by 3 and displays the result.\n",
    "- Transforms this array into a 2-row matrix and displays the new format.\n",
    "\"\"\"\n",
    "\n",
    "\n"
   ]
  },
  {
   "cell_type": "code",
   "execution_count": 15,
   "metadata": {},
   "outputs": [
    {
     "name": "stdout",
     "output_type": "stream",
     "text": [
      "[30 60]\n",
      "[[10 20]\n",
      " [10 20]]\n"
     ]
    }
   ],
   "source": [
    "import numpy as np\n",
    "\n",
    "# Program that asks the user for two numbers and stores them in a NumPy array\n",
    "number1 = int(input(\"Enter the first number: \")) # User input\n",
    "number2 = int(input(\"Enter the second number: \")) # User input\n",
    "\n",
    "array = np.array([number1, number2]) # List transformed in array\n",
    "print(array * 3) # Array * 3\n",
    "\n",
    "matrix = np.array([[number1, number2], [number1, number2]]) # Array transformed in matrix\n",
    "print(matrix) # Show the matrix"
   ]
  }
 ],
 "metadata": {
  "kernelspec": {
   "display_name": "Python 3",
   "language": "python",
   "name": "python3"
  },
  "language_info": {
   "codemirror_mode": {
    "name": "ipython",
    "version": 3
   },
   "file_extension": ".py",
   "mimetype": "text/x-python",
   "name": "python",
   "nbconvert_exporter": "python",
   "pygments_lexer": "ipython3",
   "version": "3.11.7"
  }
 },
 "nbformat": 4,
 "nbformat_minor": 2
}
